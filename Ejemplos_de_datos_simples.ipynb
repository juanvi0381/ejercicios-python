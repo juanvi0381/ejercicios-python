{
  "nbformat": 4,
  "nbformat_minor": 0,
  "metadata": {
    "colab": {
      "provenance": [],
      "authorship_tag": "ABX9TyPF7vFk19kF5yidj+LrklL1",
      "include_colab_link": true
    },
    "kernelspec": {
      "name": "python3",
      "display_name": "Python 3"
    },
    "language_info": {
      "name": "python"
    }
  },
  "cells": [
    {
      "cell_type": "markdown",
      "metadata": {
        "id": "view-in-github",
        "colab_type": "text"
      },
      "source": [
        "<a href=\"https://colab.research.google.com/github/juanvi0381/ejercicios-python/blob/main/Ejemplos_de_datos_simples.ipynb\" target=\"_parent\"><img src=\"https://colab.research.google.com/assets/colab-badge.svg\" alt=\"Open In Colab\"/></a>"
      ]
    },
    {
      "cell_type": "code",
      "source": [
        "m=\"Michael Jackson \\n\"\n",
        "a=\" es el mejor \\n\"\n",
        "M=m.upper()\n",
        "R=m.replace('Michael','Janet')\n",
        "con=3*(m+a)\n",
        "print(con)\n",
        "print(M)\n",
        "print(R.upper())\n",
        "len(con)\n",
        "\n",
        "\"hello Mike\".find(\"Mike\")\n"
      ],
      "metadata": {
        "id": "9_wHpTPM2QHb"
      },
      "execution_count": null,
      "outputs": []
    },
    {
      "cell_type": "code",
      "source": [
        "tuple=(\"Juan Suarez\",44,\"Balcarce 473\")\n",
        "print(tuple[0])\n",
        "help(tuple)"
      ],
      "metadata": {
        "id": "1ij8PA3q-yei"
      },
      "execution_count": null,
      "outputs": []
    },
    {
      "cell_type": "markdown",
      "source": [
        "Ejercicio 1\n",
        "Escribir un programa que muestre por pantalla la cadena ¡Hola Mundo!."
      ],
      "metadata": {
        "id": "VQTjnSIY2IsR"
      }
    },
    {
      "cell_type": "code",
      "source": [
        "print(\"Hola Mundo\")"
      ],
      "metadata": {
        "colab": {
          "base_uri": "https://localhost:8080/"
        },
        "id": "cjCwxJjY2M2F",
        "outputId": "218d07ab-85b0-48db-ed15-6836662c8767"
      },
      "execution_count": 2,
      "outputs": [
        {
          "output_type": "stream",
          "name": "stdout",
          "text": [
            "Hola Mundo\n"
          ]
        }
      ]
    },
    {
      "cell_type": "markdown",
      "source": [
        "Ejercicio 2\n",
        "Escribir un programa que almacene la cadena ¡Hola Mundo! en una variable y luego muestre por pantalla el contenido de la variable."
      ],
      "metadata": {
        "id": "rxFWh2S22d0k"
      }
    },
    {
      "cell_type": "code",
      "source": [
        "a=\"Hola Mundo\"\n",
        "print(a)"
      ],
      "metadata": {
        "colab": {
          "base_uri": "https://localhost:8080/"
        },
        "id": "gFh34eIp2gTs",
        "outputId": "8fcad133-5779-4aae-b3be-785648f97bfc"
      },
      "execution_count": 3,
      "outputs": [
        {
          "output_type": "stream",
          "name": "stdout",
          "text": [
            "Hola Mundo\n"
          ]
        }
      ]
    },
    {
      "cell_type": "markdown",
      "source": [
        "Ejercicio 3\n",
        "Escribir un programa que pregunte el nombre del usuario en la consola y después de que el usuario lo introduzca muestre por pantalla la cadena ¡Hola <nombre>!, donde <nombre> es el nombre que el usuario haya introducido."
      ],
      "metadata": {
        "id": "_xOdK4Fe26yV"
      }
    },
    {
      "cell_type": "code",
      "source": [
        "nombre = input(\"Cual es tu nombre?:\")\n",
        "print(\"¡Hola \"+nombre+\"!\")"
      ],
      "metadata": {
        "colab": {
          "base_uri": "https://localhost:8080/"
        },
        "id": "ILLaczuh2-qR",
        "outputId": "002b466d-e5d4-48c4-f5a2-565a0d7ab978"
      },
      "execution_count": 7,
      "outputs": [
        {
          "output_type": "stream",
          "name": "stdout",
          "text": [
            "Cual es tu nombre?:alf\n",
            "¡Hola alf!\n"
          ]
        }
      ]
    },
    {
      "cell_type": "markdown",
      "source": [
        "Ejercicio 4\n",
        "Escribir un programa que muestre por pantalla el resultado de la siguiente operación aritmética"
      ],
      "metadata": {
        "id": "X0lSYc0t4hnW"
      }
    },
    {
      "cell_type": "code",
      "source": [
        "a=(((3+2)/(2*5))**2)\n",
        "print(\"el resultado es:\")\n",
        "print(a)"
      ],
      "metadata": {
        "colab": {
          "base_uri": "https://localhost:8080/"
        },
        "id": "6NU9i6694qOQ",
        "outputId": "56c916b5-d0ea-4e9b-9378-315e552b261d"
      },
      "execution_count": 14,
      "outputs": [
        {
          "output_type": "stream",
          "name": "stdout",
          "text": [
            "el resultado es:\n",
            "0.25\n"
          ]
        }
      ]
    },
    {
      "cell_type": "markdown",
      "source": [
        "Ejercicio 5 Escribir un programa que pregunte al usuario por el número de horas trabajadas y el coste por hora. Después debe mostrar por pantalla la paga que le corresponde."
      ],
      "metadata": {
        "id": "HnfRmfdB54uT"
      }
    },
    {
      "cell_type": "code",
      "source": [
        "horas = float(input(\"Cuantas horas trabajaste?\"))\n",
        "coste_hora = float(input(\"Que costo tiene la hora?\"))\n",
        "costo = horas * coste_hora\n",
        "print(\"El costo de su trabajo es: \", costo)"
      ],
      "metadata": {
        "id": "3DnGm49D58tv"
      },
      "execution_count": null,
      "outputs": []
    },
    {
      "cell_type": "markdown",
      "source": [
        "Ejercicio 6\n",
        "Escribir un programa que lea un entero positivo, n\n",
        ", introducido por el usuario y después muestre en pantalla la suma de todos los enteros desde 1 hasta n\n",
        ". La suma de los primeros enteros positivos puede ser calculada de la siguiente forma:"
      ],
      "metadata": {
        "id": "cwp5e9IZCIEQ"
      }
    },
    {
      "cell_type": "code",
      "source": [
        "n= float(input(\"Ingrese un numero entero:\"))\n",
        "suma = n * (n+1) / 2\n",
        "print(suma)"
      ],
      "metadata": {
        "id": "SClULpwOCxHB"
      },
      "execution_count": null,
      "outputs": []
    },
    {
      "cell_type": "markdown",
      "source": [
        "Ejercicio 7\n",
        "Escribir un programa que pida al usuario su peso (en kg) y estatura (en metros), calcule el índice de masa corporal y lo almacene en una variable, y muestre por pantalla la frase Tu índice de masa corporal es <imc> donde <imc> es el índice de masa corporal calculado redondeado con dos decimales."
      ],
      "metadata": {
        "id": "ZzCbZcl3FEGw"
      }
    },
    {
      "cell_type": "code",
      "source": [
        "peso = float(input(\"cual es su peso (kg)?: \"))\n",
        "altura = float(input(\"cual es su altura? (metros): \"))\n",
        "\n",
        "indice = peso / altura / altura\n",
        "indice_redon= str(round(indice, 2))\n",
        "\n",
        "print(\"Tu indice de masa corporal es: \"+ indice_redon)"
      ],
      "metadata": {
        "id": "lEtniWi2FJYu"
      },
      "execution_count": null,
      "outputs": []
    },
    {
      "cell_type": "markdown",
      "source": [
        "Ejercicio 8\n",
        "Escribir un programa que pida al usuario dos números enteros y muestre por pantalla la <n> entre <m> da un cociente <c> y un resto <r> donde <n> y <m> son los números introducidos por el usuario, y <c> y <r> son el cociente y el resto de la división entera respectivamente."
      ],
      "metadata": {
        "id": "JuvyGPUJNAI9"
      }
    },
    {
      "cell_type": "code",
      "source": [
        "n = int(input(\"ingrese un numero entero dividendo: \"))\n",
        "m = int(input(\"ingrese un numero entero divisor: \"))\n",
        "\n",
        "c = n//m\n",
        "r = n%m\n",
        "\n",
        "print (\"La division de \"+ str(n) + \" en \" + str(m) + \" tiene un cociente de \" + str(c) + \" y resto \"+ str(r))\n"
      ],
      "metadata": {
        "id": "fdsRaTykNSG8"
      },
      "execution_count": null,
      "outputs": []
    },
    {
      "cell_type": "markdown",
      "source": [
        "Ejercicio 9\n",
        "Escribir un programa que pregunte al usuario una cantidad a invertir, el interés anual y el número de años, y muestre por pantalla el capital obtenido en la inversión."
      ],
      "metadata": {
        "id": "bijOGisePVd4"
      }
    },
    {
      "cell_type": "code",
      "source": [
        "capital=float(input(\"ingrese el capital inicial en $: \"))\n",
        "tna=float(input(\"ingrese la TNA del deposito en %: \"))\n",
        "años=float(input(\"ingrese el tiempo a depositar en años: \"))\n",
        "\n",
        "capital_final = capital * ((1+(tna/100))**años)\n",
        "print (\"el monto a retirar es: \" + str(capital_final))"
      ],
      "metadata": {
        "id": "8ubKphktPuPV"
      },
      "execution_count": null,
      "outputs": []
    },
    {
      "cell_type": "markdown",
      "source": [
        "Ejercicio 10\n",
        "Una juguetería tiene mucho éxito en dos de sus productos: payasos y muñecas. Suele hacer venta por correo y la empresa de logística les cobra por peso de cada paquete así que deben calcular el peso de los payasos y muñecas que saldrán en cada paquete a demanda. Cada payaso pesa 112 g y cada muñeca 75 g. Escribir un programa que lea el número de payasos y muñecas vendidos en el último pedido y calcule el peso total del paquete que será enviado."
      ],
      "metadata": {
        "id": "aFfDfyF-WJJw"
      }
    },
    {
      "cell_type": "code",
      "source": [
        "payasos=int(input(\"cantidad de payasos en el pedido:\"))\n",
        "muñecas=int(input(\"cantidad de muñecas en el pedido:\"))\n",
        "\n",
        "peso= 112*payasos + 75*muñecas\n",
        "\n",
        "print(\"El peso total del envio es \" + str(peso)+ \" gramos\")"
      ],
      "metadata": {
        "id": "TzEVeqFgWPM6"
      },
      "execution_count": null,
      "outputs": []
    },
    {
      "cell_type": "markdown",
      "source": [
        "Ejercicio 11\n",
        "Imagina que acabas de abrir una nueva cuenta de ahorros que te ofrece el 4% de interés al año. Estos ahorros debido a intereses, que no se cobran hasta finales de año, se te añaden al balance final de tu cuenta de ahorros. Escribir un programa que comience leyendo la cantidad de dinero depositada en la cuenta de ahorros, introducida por el usuario. Después el programa debe calcular y mostrar por pantalla la cantidad de ahorros tras el primer, segundo y tercer años. Redondear cada cantidad a dos decimales."
      ],
      "metadata": {
        "id": "u96lEGJqXlo4"
      }
    },
    {
      "cell_type": "code",
      "source": [
        "capital=float(input(\"ingrese el capital inicial en $: \"))\n",
        "tna=4\n",
        "años=3\n",
        "capital_final_1= capital * (1+(tna/100))\n",
        "print (\"el monto al finalizar el primer año es: \" + str(round(capital_final_1,2)))\n",
        "capital_final_2= capital_final_1 * (1+(tna/100))\n",
        "print (\"el monto al finalizar el segundo año es: \" + str(round(capital_final_2,2)))\n",
        "capital_final_3= capital_final_2 * (1+(tna/100))\n",
        "print (\"el monto al finalizar el tercer año es: \" + str(round(capital_final_3,2)))"
      ],
      "metadata": {
        "id": "zflcWeReXsS2"
      },
      "execution_count": null,
      "outputs": []
    },
    {
      "cell_type": "markdown",
      "source": [
        "Ejercicio 12\n",
        "Una panadería vende barras de pan a 3.49€ cada una. El pan que no es el día tiene un descuento del 60%. Escribir un programa que comience leyendo el número de barras vendidas que no son del día. Después el programa debe mostrar el precio habitual de una barra de pan, el descuento que se le hace por no ser fresca y el coste final total."
      ],
      "metadata": {
        "id": "6YrbEqA7aJ5K"
      }
    },
    {
      "cell_type": "code",
      "source": [
        "barra_ayer=int(input(\"ingrese la cantidad de barras de ayer: \"))\n",
        "precio= 3.49\n",
        "disc= precio*.4\n",
        "precio_disc= precio*.6\n",
        "total=precio_disc*barra_ayer\n",
        "\n",
        "print(\"El precio habitual de la barra es: \"+str(round(precio,2)))\n",
        "print(\"El descuento de la barra es: \"+str(round(disc,2)))\n",
        "print(\"El total de su compra es: \"+str(round(total,2)))"
      ],
      "metadata": {
        "id": "r3nuRAq4aMZ5"
      },
      "execution_count": null,
      "outputs": []
    }
  ]
}